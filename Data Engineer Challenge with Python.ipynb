{
 "cells": [
  {
   "cell_type": "markdown",
   "id": "2831efa0-7bc4-4ff7-936b-aed07e446a9e",
   "metadata": {},
   "source": [
    "### Web Scraping"
   ]
  },
  {
   "cell_type": "code",
   "execution_count": 1,
   "id": "b0572b2a-4c92-44d6-87c5-1076dd3f2f76",
   "metadata": {},
   "outputs": [],
   "source": [
    "#import library yang dibutuhkan\n",
    "import pandas as pd\n",
    "import requests\n",
    "from bs4 import BeautifulSoup"
   ]
  },
  {
   "cell_type": "code",
   "execution_count": 2,
   "id": "f9cd5392-90bc-4e11-8576-22228c6b05a7",
   "metadata": {},
   "outputs": [],
   "source": [
    "#buatlah request ke website\n",
    "website_url = requests.get('https://id.wikipedia.org/wiki/Demografi_Indonesia').text\n",
    "soup = BeautifulSoup(website_url, 'lxml')"
   ]
  },
  {
   "cell_type": "code",
   "execution_count": 3,
   "id": "fe9dd798-bec6-4d58-ada3-03ff8f6d6fca",
   "metadata": {},
   "outputs": [],
   "source": [
    "#ambil table dengan class 'wikitable sortable'\n",
    "my_table = soup.find('table', {'class':'wikitable sortable'})\n",
    "\n",
    "#cari data dengan tag 'td'\n",
    "links = my_table.findAll('td')"
   ]
  },
  {
   "cell_type": "code",
   "execution_count": 4,
   "id": "232f5fc3-8e2d-40ba-bdba-84e810a8514a",
   "metadata": {},
   "outputs": [],
   "source": [
    "#buatlah lists kosong \n",
    "nama = []\n",
    "luas_km = []\n",
    "populasi10 = []\n",
    "populasi20 = []\n",
    "\n",
    "#memasukkan data ke dalam list berdasarkan pola HTML\n",
    "for i, link in enumerate(links):\n",
    "\tif i in range(0, len(links), 4):\n",
    "\t\tnama.append(link.get_text()[:-1])\n",
    "\tif i in range(1, len(links), 4):\n",
    "\t\tluas_km.append(link.get_text()[:-1])\n",
    "\tif i in range(2, len(links), 4):\n",
    "\t\tpopulasi10.append(link.get_text()[:-1])\n",
    "\tif i in range(3, len(links), 4):\n",
    "\t\tpopulasi20.append(link.get_text()[:-1])\n",
    "\n",
    "#buatlah DataFrame dan masukkan ke CSV\n",
    "df = pd.DataFrame()\n",
    "df['Nama Provinsi'] = nama\n",
    "df['Luas km'] = luas_km\n",
    "df['Populasi 2010'] = populasi10\n",
    "df['Populasi 2020'] = populasi20\n",
    "df.to_csv('Indonesia_Demography_by_Province.csv', index=False, encoding='utf-8', quoting=1)"
   ]
  },
  {
   "cell_type": "code",
   "execution_count": 5,
   "id": "e0788ee3-ed76-43fa-8d90-68d26af008b5",
   "metadata": {},
   "outputs": [
    {
     "data": {
      "text/html": [
       "<div>\n",
       "<style scoped>\n",
       "    .dataframe tbody tr th:only-of-type {\n",
       "        vertical-align: middle;\n",
       "    }\n",
       "\n",
       "    .dataframe tbody tr th {\n",
       "        vertical-align: top;\n",
       "    }\n",
       "\n",
       "    .dataframe thead th {\n",
       "        text-align: right;\n",
       "    }\n",
       "</style>\n",
       "<table border=\"1\" class=\"dataframe\">\n",
       "  <thead>\n",
       "    <tr style=\"text-align: right;\">\n",
       "      <th></th>\n",
       "      <th>Nama Provinsi</th>\n",
       "      <th>Luas km</th>\n",
       "      <th>Populasi 2010</th>\n",
       "      <th>Populasi 2020</th>\n",
       "    </tr>\n",
       "  </thead>\n",
       "  <tbody>\n",
       "    <tr>\n",
       "      <th>0</th>\n",
       "      <td>Aceh</td>\n",
       "      <td>56.500,51</td>\n",
       "      <td>4.494.410</td>\n",
       "      <td>5.274.871</td>\n",
       "    </tr>\n",
       "    <tr>\n",
       "      <th>1</th>\n",
       "      <td>Sumatra Utara</td>\n",
       "      <td>72.427,81</td>\n",
       "      <td>12.982.204</td>\n",
       "      <td>14.799.361</td>\n",
       "    </tr>\n",
       "    <tr>\n",
       "      <th>2</th>\n",
       "      <td>Sumatra Barat</td>\n",
       "      <td>42.224,65</td>\n",
       "      <td>4.846.909</td>\n",
       "      <td>5.534.472</td>\n",
       "    </tr>\n",
       "    <tr>\n",
       "      <th>3</th>\n",
       "      <td>Riau</td>\n",
       "      <td>87.844,23</td>\n",
       "      <td>5.538.367</td>\n",
       "      <td>6.394.087</td>\n",
       "    </tr>\n",
       "    <tr>\n",
       "      <th>4</th>\n",
       "      <td>Jambi</td>\n",
       "      <td>45.348,49</td>\n",
       "      <td>3.092.265</td>\n",
       "      <td>3.548.228</td>\n",
       "    </tr>\n",
       "  </tbody>\n",
       "</table>\n",
       "</div>"
      ],
      "text/plain": [
       "   Nama Provinsi    Luas km Populasi 2010 Populasi 2020\n",
       "0           Aceh  56.500,51     4.494.410     5.274.871\n",
       "1  Sumatra Utara  72.427,81    12.982.204    14.799.361\n",
       "2  Sumatra Barat  42.224,65     4.846.909     5.534.472\n",
       "3           Riau  87.844,23     5.538.367     6.394.087\n",
       "4          Jambi  45.348,49     3.092.265     3.548.228"
      ]
     },
     "execution_count": 5,
     "metadata": {},
     "output_type": "execute_result"
    }
   ],
   "source": [
    "df.head()"
   ]
  },
  {
   "cell_type": "markdown",
   "id": "3182296a-166b-4d08-9d27-c743abf624c4",
   "metadata": {},
   "source": [
    "### Function and Regular Expression"
   ]
  },
  {
   "cell_type": "code",
   "execution_count": 17,
   "id": "7f2c8c3b-070a-49fd-adb3-3f5eff6f1df3",
   "metadata": {},
   "outputs": [],
   "source": [
    "#import library yang dibutuhkan\n",
    "import re"
   ]
  },
  {
   "cell_type": "code",
   "execution_count": 19,
   "id": "d1a77fa2-d6ae-41a2-9d24-a665243a8557",
   "metadata": {},
   "outputs": [
    {
     "name": "stdout",
     "output_type": "stream",
     "text": [
      "Not Pass\n",
      "Pass\n",
      "Pass\n",
      "Pass\n",
      "Not Pass\n",
      "Not Pass\n",
      "Pass\n",
      "Not Pass\n",
      "Not Pass\n"
     ]
    }
   ],
   "source": [
    "#function email_check\n",
    "def email_check(input):\n",
    "    match = re.search('(?=^((?!-).)*$)(?=[^0-9])((?=^((?!\\.\\d).)*$)|(?=.*_))',input)\n",
    "    if match:\n",
    "        print('Pass')\n",
    "    else:\n",
    "        print('Not Pass')\n",
    "\n",
    "\n",
    "#Masukkan data email ke dalam list\n",
    "emails = ['my-name@someemail.com', 'myname@someemail.com', 'my.name@someemail.com', \n",
    "          'my.name2019@someemail.com', 'my.name.2019@someemail.com', \n",
    "          'somename.201903@someemail.com', 'my_name.201903@someemail.com', \n",
    "          '201903myname@someemail.com', '201903.myname@someemail.com']\n",
    "\n",
    "\n",
    "#Looping untuk pengecekan Pass atau Not Pass, gunakan variabel email untuk mengiterasi emails\n",
    "for email in emails :\n",
    "    email_check(email)"
   ]
  }
 ],
 "metadata": {
  "kernelspec": {
   "display_name": "Python 3 (ipykernel)",
   "language": "python",
   "name": "python3"
  },
  "language_info": {
   "codemirror_mode": {
    "name": "ipython",
    "version": 3
   },
   "file_extension": ".py",
   "mimetype": "text/x-python",
   "name": "python",
   "nbconvert_exporter": "python",
   "pygments_lexer": "ipython3",
   "version": "3.9.12"
  }
 },
 "nbformat": 4,
 "nbformat_minor": 5
}
